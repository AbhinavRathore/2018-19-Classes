{
 "cells": [
  {
   "cell_type": "markdown",
   "metadata": {
    "colab_type": "text",
    "id": "view-in-github"
   },
   "source": [
    "[View in Colaboratory](https://colab.research.google.com/github/CC-MNNIT/2018-19-Classes/blob/master/MachineLearning/2018_08_27_Logical-Rhythm-3/MNIST.ipynb)"
   ]
  },
  {
   "cell_type": "markdown",
   "metadata": {
    "colab_type": "text",
    "id": "eIUyKrPRGr0Y"
   },
   "source": [
    "# MNIST Tutorial By [packetChor](https://github.com/packetChor) उर्फ Dipunj Gupta"
   ]
  },
  {
   "cell_type": "markdown",
   "metadata": {
    "colab_type": "text",
    "id": "IwAQnFtBHDpK"
   },
   "source": [
    "1.   Download the MNIST dataset from Professor Yann Lecun's Website\n",
    "2.   Create a folder called DATA\n",
    "3. Extract the files (which are in idx format)\n",
    "\n"
   ]
  },
  {
   "cell_type": "code",
   "execution_count": null,
   "metadata": {
    "colab": {},
    "colab_type": "code",
    "id": "pFODRSLPFK_C"
   },
   "outputs": [],
   "source": [
    "!wget -q -r -A '*ubyte.gz' --no-parent  'http://yann.lecun.com/exdb/mnist/'\n",
    "!rm -rf DATA\n",
    "!mkdir DATA\n",
    "!mv yann.lecun.com/exdb/mnist/* DATA/\n",
    "!rm -rf yann.lecun.com\n",
    "!gunzip DATA/*"
   ]
  },
  {
   "cell_type": "code",
   "execution_count": null,
   "metadata": {
    "colab": {
     "base_uri": "https://localhost:8080/",
     "height": 53
    },
    "colab_type": "code",
    "id": "rJeQxUwpHsCP",
    "outputId": "60bc800f-8817-4395-b270-b758eb7edfe4"
   },
   "outputs": [],
   "source": [
    "!ls DATA"
   ]
  },
  {
   "cell_type": "markdown",
   "metadata": {
    "colab_type": "text",
    "id": "zgbC8KtQHcIP"
   },
   "source": [
    "To convert idx directly to an array (numpy array), use idx2numpy library, pydot,graphviz is used for visualising the model's structure"
   ]
  },
  {
   "cell_type": "code",
   "execution_count": null,
   "metadata": {
    "colab": {
     "base_uri": "https://localhost:8080/",
     "height": 53
    },
    "colab_type": "code",
    "id": "Ah8yMyl1R7ka",
    "outputId": "df8c452b-12df-41ba-ba3d-230b6a39b59d"
   },
   "outputs": [],
   "source": [
    "!pip3 install -q idx2numpy\n",
    "!pip3 install -q --upgrade --force-reinstall matplotlib"
   ]
  },
  {
   "cell_type": "code",
   "execution_count": null,
   "metadata": {
    "colab": {},
    "colab_type": "code",
    "id": "tu4pkaICR53x"
   },
   "outputs": [],
   "source": [
    "import idx2numpy\n",
    "import numpy as np\n",
    "import matplotlib.pyplot as plt"
   ]
  },
  {
   "cell_type": "code",
   "execution_count": null,
   "metadata": {
    "colab": {},
    "colab_type": "code",
    "id": "q_fjXDcQIDL_"
   },
   "outputs": [],
   "source": [
    "X_train = idx2numpy.convert_from_file('DATA/train-images-idx3-ubyte')\n",
    "Y_train = idx2numpy.convert_from_file('DATA/train-labels-idx1-ubyte')\n",
    "\n",
    "X_test = idx2numpy.convert_from_file('DATA/t10k-images-idx3-ubyte')\n",
    "Y_test = idx2numpy.convert_from_file('DATA/t10k-labels-idx1-ubyte')"
   ]
  },
  {
   "cell_type": "code",
   "execution_count": null,
   "metadata": {
    "colab": {},
    "colab_type": "code",
    "id": "TrkcCAv3YrNU"
   },
   "outputs": [],
   "source": [
    "# Creating a Cross Validation Set from the training data\n",
    "\n",
    "X_cross = X_train[50000:]\n",
    "Y_cross = Y_train[50000:]\n",
    "\n",
    "X_train = X_train[:50000]\n",
    "Y_train = Y_train[:50000]"
   ]
  },
  {
   "cell_type": "code",
   "execution_count": null,
   "metadata": {
    "colab": {
     "base_uri": "https://localhost:8080/",
     "height": 125
    },
    "colab_type": "code",
    "id": "O9UmJRtKZTjD",
    "outputId": "67c47fe0-2d13-42a2-a654-848153f5e039"
   },
   "outputs": [],
   "source": [
    "print(\"X_Train\",X_train.shape)\n",
    "print(\"Y_Train\",X_train.shape)\n",
    "\n",
    "print(\"X_cross\",X_cross.shape)\n",
    "print(\"Y_cross\",X_cross.shape)\n",
    "\n",
    "print(\"X_Test\",X_test.shape)\n",
    "print(\"Y_Test\",X_test.shape)"
   ]
  },
  {
   "cell_type": "markdown",
   "metadata": {
    "colab_type": "text",
    "id": "xXP6UyIuISEs"
   },
   "source": [
    "The images are stored as 2D arrays/matrix (of size 28*28) where each value represents the intensity of a pixel."
   ]
  },
  {
   "cell_type": "code",
   "execution_count": null,
   "metadata": {
    "colab": {
     "base_uri": "https://localhost:8080/",
     "height": 521
    },
    "colab_type": "code",
    "id": "EyDnp245INO5",
    "outputId": "50ac4236-0213-4d15-ca19-0bcceb70940e"
   },
   "outputs": [],
   "source": [
    "np.set_printoptions(linewidth=np.nan)\n",
    "print(X_train[12])\n",
    "\n",
    "\n",
    "# Can you see THE BIG 3 in the image below ??"
   ]
  },
  {
   "cell_type": "code",
   "execution_count": null,
   "metadata": {
    "colab": {
     "base_uri": "https://localhost:8080/",
     "height": 347
    },
    "colab_type": "code",
    "id": "qdBZNqoGdA-w",
    "outputId": "0e53304c-c6a0-471e-f565-f70033c46991"
   },
   "outputs": [],
   "source": [
    "digit = X_train[12]\n",
    "plt.imshow(digit)\n",
    "plt.show()\n",
    "\n",
    "\n",
    "# plt.imshow() treats 0 as brightest and 255 as darkest"
   ]
  },
  {
   "cell_type": "code",
   "execution_count": null,
   "metadata": {
    "colab": {
     "base_uri": "https://localhost:8080/",
     "height": 35
    },
    "colab_type": "code",
    "id": "lLvt_zURZs9f",
    "outputId": "f477cd2b-85ba-45ec-b0c7-76efb70086db"
   },
   "outputs": [],
   "source": [
    "from keras.models import Sequential\n",
    "from keras.layers import Dense, Activation\n",
    "from keras.utils import np_utils"
   ]
  },
  {
   "cell_type": "code",
   "execution_count": null,
   "metadata": {
    "colab": {},
    "colab_type": "code",
    "id": "KIhgj8tPamD1"
   },
   "outputs": [],
   "source": [
    "X_train = X_train.reshape(X_train.shape[0], -1) # flattens X_train to 50,000 * (1*28*28) : Basically keeps the first dimension intact and flattens all other dimensions\n",
    "X_train = X_train.astype('float32')\n",
    "X_train /= 255\n",
    "\n",
    "X_cross = X_cross.reshape(X_cross.shape[0], -1)\n",
    "X_cross = X_cross.astype('float32')\n",
    "X_cross /= 255\n",
    "\n",
    "X_test = X_test.reshape(X_test.shape[0], -1)\n",
    "X_test = X_test.astype('float32')\n",
    "X_test /= 255\n",
    "\n",
    "\n",
    "Y_train = np_utils.to_categorical(Y_train, 10)\n",
    "Y_cross = np_utils.to_categorical(Y_cross, 10)\n",
    "Y_test = np_utils.to_categorical(Y_test, 10)\n",
    "\n",
    "num_classes = Y_test.shape[1]"
   ]
  },
  {
   "cell_type": "code",
   "execution_count": null,
   "metadata": {
    "colab": {
     "base_uri": "https://localhost:8080/",
     "height": 125
    },
    "colab_type": "code",
    "id": "610WinZGO7xq",
    "outputId": "d86cb7f9-4bde-4595-fa5f-4cbf0ba54755"
   },
   "outputs": [],
   "source": [
    "print(\"X_Train\",X_train.shape)\n",
    "print(\"Y_Train\",X_train.shape)\n",
    "\n",
    "print(\"X_cross\",X_cross.shape)\n",
    "print(\"Y_cross\",X_cross.shape)\n",
    "\n",
    "print(\"X_Test\",X_test.shape)\n",
    "print(\"Y_Test\",X_test.shape)"
   ]
  },
  {
   "cell_type": "code",
   "execution_count": null,
   "metadata": {
    "colab": {},
    "colab_type": "code",
    "id": "BOV16YFhJ92O"
   },
   "outputs": [],
   "source": [
    "model = Sequential()\n",
    "\n",
    "# First Hidden Layer (input layer is implicit from the input_dim)\n",
    "model.add( Dense(units=100, input_shape=(28*28,), activation='relu',name='Hidden-1'))\n",
    "\n",
    "# Second Hidden Layer\n",
    "model.add( Dense(units=100, activation='relu',name='Hidden-2') )\n",
    "\n",
    "# Output layer\n",
    "model.add( Dense(units=num_classes, activation='sigmoid',name='OutputLayer') )"
   ]
  },
  {
   "cell_type": "code",
   "execution_count": null,
   "metadata": {
    "colab": {},
    "colab_type": "code",
    "id": "hYJiIaoOI9dO"
   },
   "outputs": [],
   "source": [
    "model.compile(loss='categorical_crossentropy', optimizer='sgd', metrics=['accuracy'])\n",
    "\n",
    "# sgd stands for : stochastic gradient descent (the same gradient descent that we taught you in class)"
   ]
  },
  {
   "cell_type": "code",
   "execution_count": null,
   "metadata": {
    "colab": {
     "base_uri": "https://localhost:8080/",
     "height": 251
    },
    "colab_type": "code",
    "id": "HsCjL6X6K_mA",
    "outputId": "09d7c36a-48bd-4af5-9240-ad8035f3e287"
   },
   "outputs": [],
   "source": [
    "model.summary()"
   ]
  },
  {
   "cell_type": "code",
   "execution_count": null,
   "metadata": {
    "colab": {
     "base_uri": "https://localhost:8080/",
     "height": 422
    },
    "colab_type": "code",
    "id": "xXTcooRdQ1bA",
    "outputId": "d2d30273-b6d9-4ca5-8eaa-64021e7efa5b"
   },
   "outputs": [],
   "source": [
    "from keras.utils.vis_utils import plot_model\n",
    "from IPython.display import Image\n",
    "\n",
    "plot_model(model, to_file='model_plot.png', show_shapes=True, show_layer_names=True)\n",
    "Image(filename='model_plot.png') "
   ]
  },
  {
   "cell_type": "code",
   "execution_count": null,
   "metadata": {
    "colab": {
     "base_uri": "https://localhost:8080/",
     "height": 755
    },
    "colab_type": "code",
    "id": "_6aU7LUuOIBs",
    "outputId": "460dbbac-0ba4-486b-c7b3-7eb26165f950"
   },
   "outputs": [],
   "source": [
    "history = model.fit(X_train, Y_train, validation_data=(X_cross, Y_cross), epochs=20, batch_size=200, verbose=1)"
   ]
  },
  {
   "cell_type": "code",
   "execution_count": null,
   "metadata": {
    "colab": {
     "base_uri": "https://localhost:8080/",
     "height": 35
    },
    "colab_type": "code",
    "id": "Pc04HZrpO2st",
    "outputId": "9e667fd8-0cff-4eaa-983f-dbc9dba6d4e6"
   },
   "outputs": [],
   "source": [
    "print(history.history.keys())"
   ]
  },
  {
   "cell_type": "code",
   "execution_count": null,
   "metadata": {
    "colab": {
     "base_uri": "https://localhost:8080/",
     "height": 376
    },
    "colab_type": "code",
    "id": "FJqC5EFCP26Y",
    "outputId": "f41f14e3-90f8-4925-8035-acb90bc81526"
   },
   "outputs": [],
   "source": [
    "plt.plot(history.history['acc'])\n",
    "plt.plot(history.history['val_acc'])\n",
    "plt.title('model accuracy')\n",
    "plt.ylabel('accuracy')\n",
    "plt.xlabel('epoch')\n",
    "plt.legend(['train', 'cross validation'], loc='upper left')\n",
    "plt.show()"
   ]
  },
  {
   "cell_type": "code",
   "execution_count": null,
   "metadata": {
    "colab": {
     "base_uri": "https://localhost:8080/",
     "height": 376
    },
    "colab_type": "code",
    "id": "xsRa25hAP_lz",
    "outputId": "cdc0a746-d8e3-4292-b1d9-cefd06741996"
   },
   "outputs": [],
   "source": [
    "# summarize history for loss\n",
    "plt.plot(history.history['loss'])\n",
    "plt.plot(history.history['val_loss'])\n",
    "plt.title('model loss')\n",
    "plt.ylabel('loss')\n",
    "plt.xlabel('epoch')\n",
    "plt.legend(['train', 'cross validation'], loc='upper left')\n",
    "plt.show()"
   ]
  },
  {
   "cell_type": "code",
   "execution_count": null,
   "metadata": {
    "colab": {
     "base_uri": "https://localhost:8080/",
     "height": 35
    },
    "colab_type": "code",
    "id": "ZD00jljDhpq5",
    "outputId": "eca8a814-a00f-4e83-fa93-af5fbdce401f"
   },
   "outputs": [],
   "source": [
    "score = model.evaluate(X_test, Y_test, verbose=0)\n",
    "print('Test accuracy:', score[1])"
   ]
  },
  {
   "cell_type": "code",
   "execution_count": null,
   "metadata": {
    "colab": {
     "base_uri": "https://localhost:8080/",
     "height": 35
    },
    "colab_type": "code",
    "id": "bNzgA0pSQACF",
    "outputId": "2fce9b8d-e5dd-46e9-9f39-3ee226723a52"
   },
   "outputs": [],
   "source": [
    "Y_pred = model.predict_classes(X_test,verbose=1)\n",
    "Y_test = np.argmax(Y_test, axis=1) "
   ]
  },
  {
   "cell_type": "code",
   "execution_count": null,
   "metadata": {
    "colab": {},
    "colab_type": "code",
    "id": "VsuoNYjNho3Y"
   },
   "outputs": [],
   "source": [
    "correct_indices = list(np.where(Y_pred == Y_test)[0])\n",
    "incorrect_indices = list(np.where(Y_pred != Y_test)[0])"
   ]
  },
  {
   "cell_type": "code",
   "execution_count": null,
   "metadata": {
    "colab": {
     "base_uri": "https://localhost:8080/",
     "height": 1304
    },
    "colab_type": "code",
    "id": "SLqG4Z4PdE_9",
    "outputId": "a0378a19-a0ba-4949-b14b-4b454835bb8e"
   },
   "outputs": [],
   "source": [
    "plt.figure(figsize=(18, 16), dpi= 80, facecolor='w', edgecolor='k')\n",
    "\n",
    "for i, correct in enumerate(correct_indices[:81]):\n",
    "    plt.subplot(9,9,i+1)\n",
    "    plt.imshow(X_test[correct].reshape(28,28), cmap='gray', interpolation='none')\n",
    "    plt.title(\"Prediction = {}, Actual = {}\".format(Y_pred[correct], Y_test[correct]))   \n",
    "\n",
    "plt.tight_layout()"
   ]
  },
  {
   "cell_type": "code",
   "execution_count": null,
   "metadata": {
    "colab": {
     "base_uri": "https://localhost:8080/",
     "height": 1304
    },
    "colab_type": "code",
    "id": "wEk3UFibg8AB",
    "outputId": "76d8defb-79b5-4d7d-c25e-44df09c9009e"
   },
   "outputs": [],
   "source": [
    "plt.figure(figsize=(18, 16), dpi= 80, facecolor='w', edgecolor='k')\n",
    "\n",
    "for i, incorrect in enumerate(incorrect_indices[:81]):\n",
    "    plt.subplot(9,9,i+1)\n",
    "    plt.imshow(X_test[incorrect].reshape(28,28), cmap='gray', interpolation='none')\n",
    "    plt.title(\"Prediction = {}, Actual = {}\".format(Y_pred[incorrect], Y_test[incorrect]))   \n",
    "\n",
    "plt.tight_layout()"
   ]
  },
  {
   "cell_type": "code",
   "execution_count": null,
   "metadata": {
    "colab": {},
    "colab_type": "code",
    "id": "-L6_Cb3Qqm-L"
   },
   "outputs": [],
   "source": []
  }
 ],
 "metadata": {
  "accelerator": "GPU",
  "colab": {
   "collapsed_sections": [],
   "include_colab_link": true,
   "name": "MNIST.ipynb",
   "provenance": [],
   "version": "0.3.2"
  },
  "kernelspec": {
   "display_name": "Python 3",
   "language": "python",
   "name": "python3"
  },
  "language_info": {
   "codemirror_mode": {
    "name": "ipython",
    "version": 3
   },
   "file_extension": ".py",
   "mimetype": "text/x-python",
   "name": "python",
   "nbconvert_exporter": "python",
   "pygments_lexer": "ipython3",
   "version": "3.6.5"
  }
 },
 "nbformat": 4,
 "nbformat_minor": 1
}
