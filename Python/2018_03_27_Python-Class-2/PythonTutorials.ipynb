{
 "cells": [
  {
   "cell_type": "code",
   "execution_count": 12,
   "metadata": {},
   "outputs": [
    {
     "ename": "SyntaxError",
     "evalue": "Missing parentheses in call to 'print' (<ipython-input-12-3577acc6aaf8>, line 3)",
     "output_type": "error",
     "traceback": [
      "\u001b[0;36m  File \u001b[0;32m\"<ipython-input-12-3577acc6aaf8>\"\u001b[0;36m, line \u001b[0;32m3\u001b[0m\n\u001b[0;31m    print \"Hello Again\"\u001b[0m\n\u001b[0m                      ^\u001b[0m\n\u001b[0;31mSyntaxError\u001b[0m\u001b[0;31m:\u001b[0m Missing parentheses in call to 'print'\n"
     ]
    }
   ],
   "source": [
    "# Printing \n",
    "print(\"Hello World!\")\n",
    "print \"Hello Again\"\n",
    "print(\"I like typing this.\")\n",
    "print \"This is fun.\"\n",
    "print 'Yay! Printing.'\n",
    "print \"I'd much rather you 'not'.\"\n",
    "print 'I \"said\" do not touch this.'"
   ]
  },
  {
   "cell_type": "code",
   "execution_count": null,
   "metadata": {
    "collapsed": true
   },
   "outputs": [],
   "source": [
    "# Comments in python\n",
    "# Comment  -> \n",
    "# This is a comment\n",
    "print(\"This is not a comment\")\n",
    "'''\n",
    "multiple comment\n",
    "print(\"Bucky\" + \"Roberts\")\n",
    "'''"
   ]
  },
  {
   "cell_type": "code",
   "execution_count": null,
   "metadata": {
    "collapsed": true
   },
   "outputs": [],
   "source": [
    "# Basic Operators - Knowledge box\n",
    "    + plus\n",
    "    - minus\n",
    "    / slash\n",
    "    * asterisk\n",
    "    % percent\n",
    "    < less-than\n",
    "    > greater-than\n",
    "    <= less-than-equal\n",
    "    >= greater-than-equal"
   ]
  },
  {
   "cell_type": "code",
   "execution_count": null,
   "metadata": {
    "collapsed": true
   },
   "outputs": [],
   "source": [
    "print \"I will now count my chickens:\"\n",
    "\n",
    "print \"Hens\", 25 + 30 / 6\n",
    "print \"Roosters\", 100 - 25 * 3 % 4\n",
    "\n",
    "print \"Now I will count the eggs:\"\n",
    "\n",
    "print 3 + 2 + 1 - 5 + 4 % 2 - 1 / 4 + 6\n",
    "\n",
    "print \"Is it true that 3 + 2 < 5 - 7?\"\n",
    "\n",
    "print 3 + 2 < 5 - 7\n",
    "\n",
    "print \"What is 3 + 2?\", 3 + 2\n",
    "print \"What is 5 - 7?\", 5 - 7\n",
    "\n",
    "print \"Oh, that's why it's False.\"\n",
    "\n",
    "print \"How about some more.\"\n",
    "\n",
    "print \"Is it greater?\", 5 > -2\n",
    "print \"Is it greater or equal?\", 5 >= -2\n",
    "print \"Is it less or equal?\", 5 <= -2"
   ]
  },
  {
   "cell_type": "code",
   "execution_count": null,
   "metadata": {},
   "outputs": [],
   "source": [
    "# Variables\n",
    "a = 10\n",
    "print(a)\n",
    "b = \"Computer Club\"\n",
    "print(b)\n",
    "num = 3.244\n",
    "print(num)"
   ]
  },
  {
   "cell_type": "code",
   "execution_count": null,
   "metadata": {},
   "outputs": [],
   "source": [
    "# Basic Commands - Execute on python terminal\n",
    "print(\"hey now brown cow\")\n",
    "\n",
    "firstName = \"Mohit \"\n",
    "firstName + \"Khare\"\n",
    "firstName * 5"
   ]
  },
  {
   "cell_type": "code",
   "execution_count": null,
   "metadata": {},
   "outputs": [],
   "source": [
    "# Accessing Characters via index\n",
    "# >>> denotes python command line\n",
    ">>> user = \"Tuna McFish\"\n",
    ">>> user[0]\n",
    "'T'\n",
    ">>> user[5]\n",
    "'M'\n",
    ">>> user[-1]\n",
    "'h'\n",
    ">>> user[-3]\n",
    "'i'\n",
    ">>> user[2:7]\n",
    "'na Mc'\n",
    ">>> user[:7]\n",
    "'Tuna Mc'\n",
    ">>> user[2:]\n",
    "'na McFish'\n",
    ">>> user[:]\n",
    "'Tuna McFish'\n",
    ">>> print('dsadasd')\n",
    "dsadasd\n",
    ">>> len('dfjhf22893hfsdfjkasdf')\n",
    "21\n",
    ">>> len(user)\n",
    "11"
   ]
  },
  {
   "cell_type": "code",
   "execution_count": null,
   "metadata": {},
   "outputs": [],
   "source": [
    "# List in python\n",
    "# list --> []\n",
    ">>> players = [29, 58, 66, 71, 87]\n",
    ">>> players[2]\n",
    "66\n",
    ">>> players[2] = 68\n",
    ">>> players\n",
    "[29, 58, 68, 71, 87]\n",
    ">>> players + [90, 91, 98]\n",
    "[29, 58, 68, 71, 87, 90, 91, 98]\n",
    ">>> players\n",
    "[29, 58, 68, 71, 87]\n",
    ">>> players.append(120)\n",
    ">>> players\n",
    "[29, 58, 68, 71, 87, 120]\n",
    ">>> players[:2]\n",
    "[29, 58]\n",
    ">>> players[:2] = [0, 0]\n",
    ">>> players\n",
    "[0, 0, 68, 71, 87, 120]\n",
    ">>> players[:2] = []\n",
    ">>> players\n",
    "[68, 71, 87, 120]\n",
    ">>> players[:] = []\n",
    ">>> players\n",
    "[]"
   ]
  },
  {
   "cell_type": "code",
   "execution_count": null,
   "metadata": {},
   "outputs": [],
   "source": [
    "# If-Else conditions\n",
    "# Note the syntax\n",
    "# if condition :\n",
    "#      statements\n",
    "# else:\n",
    "#      statements\n",
    "\n",
    "age = 13\n",
    "\n",
    "if age < 21:\n",
    "    print(\"No beer for you!\")\n",
    "\n",
    "#name = \"Lucy\"\n",
    "name = \"Tommy D\"\n",
    "if name is \"Bucky\":\n",
    "    print(\"Hey there Bucky\")\n",
    "elif name is \"Lucy\":\n",
    "    print(\"What up Lucedawg\")\n",
    "elif name is \"Sammy\":\n",
    "    print(\"What up Slammy\")\n",
    "else:\n",
    "    print(\"Please sign up for the site!\")\n",
    "    \n",
    "# Try for different ages , age = 27"
   ]
  },
  {
   "cell_type": "code",
   "execution_count": null,
   "metadata": {},
   "outputs": [],
   "source": [
    "# Iterations in python\n",
    "# food list and inside some items\n",
    "foods = ['bacon', 'tuna', 'ham', 'snausages', 'beef']\n",
    "\n",
    "for f in foods[:2]:\n",
    "    print(f)\n",
    "    print(len(f))"
   ]
  },
  {
   "cell_type": "code",
   "execution_count": null,
   "metadata": {},
   "outputs": [],
   "source": [
    "# For , while loops\n",
    "#from 0 to 10\n",
    "for x in range(10):\n",
    "    print(x)\n",
    "\n",
    "print(\"\")\n",
    "\n",
    "#from 5 to 12\n",
    "for x in range(5, 12):\n",
    "    print(x)\n",
    "\n",
    "print(\"\")\n",
    "\n",
    "#from 10 to 40 increment value 5\n",
    "for x in range(10, 40, 5):\n",
    "    print(x)\n",
    "\n",
    "print(\"\")\n",
    "\n",
    "#While loop\n",
    "\n",
    "buttcrack = 5\n",
    "\n",
    "while(buttcrack < 10):\n",
    "    print(buttcrack)\n",
    "    buttcrack += 1"
   ]
  },
  {
   "cell_type": "code",
   "execution_count": null,
   "metadata": {},
   "outputs": [],
   "source": [
    "magicNumber = 26\n",
    "\n",
    "# ok this program find a magic number\n",
    "\n",
    "for n in range(101):\n",
    "    if n is magicNumber:\n",
    "        print(n, \"is the magic number ! \")\n",
    "        break\n",
    "    else:\n",
    "        print(n)"
   ]
  },
  {
   "cell_type": "code",
   "execution_count": null,
   "metadata": {},
   "outputs": [],
   "source": [
    "#Challenge\n",
    "#Find the numbers whıch can dive 4 and 4 multiple(tetragenous) in from 0 to 100\n",
    "for n in range(101):\n",
    "    if(n % 4 is 0):\n",
    "        print(n)"
   ]
  },
  {
   "cell_type": "code",
   "execution_count": null,
   "metadata": {},
   "outputs": [],
   "source": [
    "numbersTaken = [2, 5, 12, 13, 17]\n",
    "\n",
    "print(\"Here are the numbers that are still available\")\n",
    "\n",
    "for n in range(1,20):\n",
    "    if n in numbersTaken:\n",
    "        continue\n",
    "    print(n)"
   ]
  },
  {
   "cell_type": "code",
   "execution_count": null,
   "metadata": {},
   "outputs": [],
   "source": [
    "def beef():\n",
    "    print(\"Dayum, functions are cool\")\n",
    "\n",
    "\n",
    "def bitcoin_to_usd(btc):\n",
    "    amount = btc * 527\n",
    "    print(amount)\n",
    "\n",
    "beef()\n",
    "bitcoin_to_usd(3.85)\n",
    "bitcoin_to_usd(1)\n",
    "bitcoin_to_usd(13)"
   ]
  },
  {
   "cell_type": "code",
   "execution_count": null,
   "metadata": {},
   "outputs": [],
   "source": [
    "def allowed_dating_age(my_age):\n",
    "    girls_age = (my_age/2)+7\n",
    "    return girls_age\n",
    "\n",
    "my_limit = allowed_dating_age(22)\n",
    "creppy_limit = allowed_dating_age(49)\n",
    "print(\"I can date girls\", my_limit,\"or older\")\n",
    "print(\"Creepy can date girls\", creppy_limit,\"or older\")"
   ]
  },
  {
   "cell_type": "code",
   "execution_count": null,
   "metadata": {},
   "outputs": [],
   "source": [
    "def get_gender(sex = 'Unknown'):\n",
    "    if sex is 'm':\n",
    "        sex = 'Male'\n",
    "    elif sex is 'f':\n",
    "        sex = 'Female'\n",
    "    print(sex)\n",
    "\n",
    "get_gender('m')\n",
    "get_gender('f')\n",
    "get_gender()"
   ]
  },
  {
   "cell_type": "code",
   "execution_count": null,
   "metadata": {},
   "outputs": [],
   "source": [
    "a = 7823\n",
    "\n",
    "def corn():\n",
    "  print(a)\n",
    "\n",
    "\n",
    "def fudge():\n",
    "  print(a)\n",
    "\n",
    "corn()\n",
    "fudge()"
   ]
  },
  {
   "cell_type": "code",
   "execution_count": null,
   "metadata": {},
   "outputs": [],
   "source": [
    "def dumb_sentence(name='Mohit', action='ate', item='pizza'):\n",
    "  print(name, action, item)\n",
    "\n",
    "dumb_sentence()\n",
    "dumb_sentence(\"CC\", \"teaches\", \"coding\")\n",
    "dumb_sentence(item='burger')\n",
    "dume_sentence(item='football', action='loves')"
   ]
  },
  {
   "cell_type": "code",
   "execution_count": null,
   "metadata": {},
   "outputs": [],
   "source": [
    "def add_numbers(*args):\n",
    "  total = 0\n",
    "  for a in args:\n",
    "    total += a\n",
    "  print(total)\n",
    "\n",
    "add_numbers(3)\n",
    "add_numbers(3, 32)\n",
    "add_numbers(3, 43, 5453, 354234, 463463)"
   ]
  },
  {
   "cell_type": "code",
   "execution_count": null,
   "metadata": {},
   "outputs": [],
   "source": [
    "def health_calculator(age, apples_ate, cigs_smoked):\n",
    "  answer = (100-age) + (apples_ate*3.5) - (cigs_smoked*2)\n",
    "  print(answer)\n",
    "\n",
    "data = [27, 20, 0]\n",
    "\n",
    "health_calculator(data[0], data[1], data[2])\n",
    "health_calculator(*data)"
   ]
  },
  {
   "cell_type": "code",
   "execution_count": null,
   "metadata": {},
   "outputs": [],
   "source": [
    "groceries = {'cereal', 'milk', 'starcrunch', 'beer', 'duck tape', 'lotion', 'beer'}\n",
    "print(groceries)\n",
    "\n",
    "if 'milk' in groceries:\n",
    "  print(\"You already have milk hoss!\")\n",
    "else:\n",
    "  print(\"Oh yea, you need milk!\")"
   ]
  },
  {
   "cell_type": "code",
   "execution_count": null,
   "metadata": {},
   "outputs": [],
   "source": [
    "classmates = {'Tony': ' cool but smells', 'Emma': ' sits behind me', 'Lucy': ' asks too many questions'}\n",
    "\n",
    "for k, v in classmates.items():\n",
    "    print(k + v)"
   ]
  },
  {
   "cell_type": "code",
   "execution_count": null,
   "metadata": {},
   "outputs": [],
   "source": [
    "import tuna_21\n",
    "import random\n",
    "\n",
    "tuna_21.fish()\n",
    "\n",
    "x = random.randrange(1, 1000)\n",
    "print(x)"
   ]
  },
  {
   "cell_type": "code",
   "execution_count": null,
   "metadata": {},
   "outputs": [],
   "source": [
    "import random\n",
    "import urllib.request\n",
    "\n",
    "def download_web_image(url):\n",
    "    name = random.randrange(1, 1000)\n",
    "    full_name = str(name) + \".jpg\"\n",
    "    urllib.request.urlretrieve(url, full_name)\n",
    "\n",
    "download_web_image(\"https://www.thenewboston.com/images/homepage_images/main_homepage_01.png\")"
   ]
  },
  {
   "cell_type": "code",
   "execution_count": null,
   "metadata": {},
   "outputs": [],
   "source": [
    "# Writing and Reading Files\n",
    "fw = open('sample.txt', 'w')\n",
    "fw.write('Writing some stuff in my text file\\n')\n",
    "fw.write('I like bacon\\n')\n",
    "fw.close()\n",
    "\n",
    "fr = open('sample.txt', 'r')\n",
    "text = fr.read()\n",
    "print(text)\n",
    "fr.close()"
   ]
  },
  {
   "cell_type": "code",
   "execution_count": null,
   "metadata": {},
   "outputs": [],
   "source": [
    "from urllib import request\n",
    "\n",
    "goog_url = http://real-chart.finance.yahoo.com/table.csv?s=GOOG&d=2&e=8&f=2015&g=d&a=2&b=27&c=2014&ignore=.csv\n",
    "\n",
    "def download_stock_data(csv_url):\n",
    "    response = request.urlopen(csv_url)\n",
    "    csv = response.read()\n",
    "    csv_str = str(csv)\n",
    "    lines = csv_str.split(\"\\\\n\")\n",
    "    dest_url = r'goog.csv'\n",
    "    fx = open(dest_url, \"w\")\n",
    "    for line in lines:\n",
    "        fx.write(line + \"\\n\")\n",
    "    fx.close()\n",
    "\n",
    "download_stock_data(goog_url)"
   ]
  },
  {
   "cell_type": "code",
   "execution_count": null,
   "metadata": {},
   "outputs": [],
   "source": [
    "while True:\n",
    "    try:\n",
    "        number = int(input(\"What's your fav number hoss?\\n\"))\n",
    "        print(18/number)\n",
    "        break\n",
    "    except ValueError:\n",
    "        print(\"Make sure and enter a number\")\n",
    "    except ZeroDivisionError:\n",
    "        print(\"Don't pick zero\")\n",
    "    except:\n",
    "        break\n",
    "    finally:\n",
    "        print(\"loop complete\")"
   ]
  },
  {
   "cell_type": "code",
   "execution_count": null,
   "metadata": {},
   "outputs": [],
   "source": [
    "class Enemy:\n",
    "    life = 3\n",
    "    \n",
    "    def attack(self):\n",
    "        print(\"ouch!\")\n",
    "        self.life -=1\n",
    "    \n",
    "    def checkLife(self):\n",
    "        if self.life <= 0:\n",
    "            print(\"I am dead\")\n",
    "        else:\n",
    "            print(str(self.life) + \" life left\")\n",
    "\n",
    "enemy1 = Enemy()\n",
    "enemy2 = Enemy()\n",
    "\n",
    "enemy1.attack()\n",
    "enemy1.attack()\n",
    "enemy1.checkLife()\n",
    "enemy2.checkLife()"
   ]
  },
  {
   "cell_type": "code",
   "execution_count": null,
   "metadata": {},
   "outputs": [],
   "source": [
    "class Enemy:\n",
    "    def __init__(self, x):\n",
    "        self.energy = x\n",
    "    \n",
    "    def get_energy(self):\n",
    "        print(self.energy)\n",
    "\n",
    "jason = Enemy(5)\n",
    "sandy = Enemy(18)\n",
    "\n",
    "jason.get_energy()\n",
    "sandy.get_energy()"
   ]
  },
  {
   "cell_type": "code",
   "execution_count": null,
   "metadata": {},
   "outputs": [],
   "source": [
    "class Girl:\n",
    "    \n",
    "    gender = 'female'\n",
    "    \n",
    "    def __init__(self, name):\n",
    "        self.name = name\n",
    "\n",
    "r = Girl('Rachel')\n",
    "s = Girl('Stanky')\n",
    "print(r.gender)\n",
    "print(s.gender)\n",
    "print(r.name)\n",
    "print(s.name)"
   ]
  },
  {
   "cell_type": "code",
   "execution_count": null,
   "metadata": {},
   "outputs": [],
   "source": [
    "class Parent:\n",
    "    \n",
    "    def print_last_name(self):\n",
    "        print('Roberts')\n",
    "    \n",
    "\n",
    "class Child(Parent):\n",
    "    \n",
    "    def print_first_name(self):\n",
    "        print('Bucky')\n",
    "    \n",
    "    def print_last_name(self):\n",
    "        print('Snitzleberg')\n",
    "\n",
    "bucky = Child()\n",
    "bucky.print_first_name()\n",
    "bucky.print_last_name()"
   ]
  },
  {
   "cell_type": "code",
   "execution_count": null,
   "metadata": {},
   "outputs": [],
   "source": [
    "class Mario():\n",
    "    \n",
    "    def move(self):\n",
    "        print('I am moving!')\n",
    "\n",
    "\n",
    "class Shroom():\n",
    "    \n",
    "    def eat_shroom(self):\n",
    "        print('Now I am big!')\n",
    "\n",
    "\n",
    "class BigMario(Mario, Shroom):\n",
    "    pass\n",
    "\n",
    "bm = BigMario()\n",
    "bm.move()\n",
    "bm.eat_shroom()"
   ]
  },
  {
   "cell_type": "code",
   "execution_count": null,
   "metadata": {},
   "outputs": [],
   "source": [
    "def drop_first_last(grades):\n",
    "    first, *middle, last = grades\n",
    "    avg = sum(middle) / len(middle)\n",
    "    print(avg)\n",
    "\n",
    "drop_first_last([65, 76, 98, 54, 21])\n",
    "drop_first_last([65, 76, 98, 54, 21, 54, 65, 99, 88, 78])"
   ]
  },
  {
   "cell_type": "code",
   "execution_count": null,
   "metadata": {},
   "outputs": [],
   "source": [
    "first = ['Mohit', 'Abhey', 'Akshay']\n",
    "last = ['Khare', 'Rana', 'Sharma']\n",
    "\n",
    "names = zip(first, last)\n",
    "\n",
    "for a, b in names:\n",
    "    print(a, b)"
   ]
  },
  {
   "cell_type": "code",
   "execution_count": null,
   "metadata": {},
   "outputs": [],
   "source": [
    "answer = lambda x: x*7\n",
    "print(answer(5))"
   ]
  }
 ],
 "metadata": {
  "kernelspec": {
   "display_name": "Python 3",
   "language": "python",
   "name": "python3"
  },
  "language_info": {
   "codemirror_mode": {
    "name": "ipython",
    "version": 3
   },
   "file_extension": ".py",
   "mimetype": "text/x-python",
   "name": "python",
   "nbconvert_exporter": "python",
   "pygments_lexer": "ipython3",
   "version": "3.5.2"
  }
 },
 "nbformat": 4,
 "nbformat_minor": 2
}
